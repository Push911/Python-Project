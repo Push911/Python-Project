{
  "nbformat": 4,
  "nbformat_minor": 0,
  "metadata": {
    "colab": {
      "name": "PneumoniaDetect.ipynb",
      "provenance": [],
      "collapsed_sections": [],
      "machine_shape": "hm"
    },
    "kernelspec": {
      "name": "python3",
      "display_name": "Python 3"
    },
    "accelerator": "GPU"
  },
  "cells": [
    {
      "cell_type": "markdown",
      "metadata": {
        "id": "i-fes2Zjw5b9",
        "colab_type": "text"
      },
      "source": [
        "Add google disk"
      ]
    },
    {
      "cell_type": "code",
      "metadata": {
        "id": "cGdGmTl-sKXm",
        "colab_type": "code",
        "outputId": "8ff2d46e-a238-4c08-ecc2-c5c28f00cafd",
        "colab": {
          "base_uri": "https://localhost:8080/",
          "height": 125
        }
      },
      "source": [
        "from google.colab import drive\n",
        "drive.mount('/content/gdrive')"
      ],
      "execution_count": 1,
      "outputs": [
        {
          "output_type": "stream",
          "text": [
            "Go to this URL in a browser: https://accounts.google.com/o/oauth2/auth?client_id=947318989803-6bn6qk8qdgf4n4g3pfee6491hc0brc4i.apps.googleusercontent.com&redirect_uri=urn%3aietf%3awg%3aoauth%3a2.0%3aoob&response_type=code&scope=email%20https%3a%2f%2fwww.googleapis.com%2fauth%2fdocs.test%20https%3a%2f%2fwww.googleapis.com%2fauth%2fdrive%20https%3a%2f%2fwww.googleapis.com%2fauth%2fdrive.photos.readonly%20https%3a%2f%2fwww.googleapis.com%2fauth%2fpeopleapi.readonly\n",
            "\n",
            "Enter your authorization code:\n",
            "··········\n",
            "Mounted at /content/gdrive\n"
          ],
          "name": "stdout"
        }
      ]
    },
    {
      "cell_type": "markdown",
      "metadata": {
        "id": "e-xgx4Qrqb3b",
        "colab_type": "text"
      },
      "source": [
        "Install the kaggle to system"
      ]
    },
    {
      "cell_type": "code",
      "metadata": {
        "id": "MsjkWsp7qGs0",
        "colab_type": "code",
        "colab": {}
      },
      "source": [
        "!pip install -q kaggle"
      ],
      "execution_count": 0,
      "outputs": []
    },
    {
      "cell_type": "markdown",
      "metadata": {
        "id": "HrhNQM9AtzQl",
        "colab_type": "text"
      },
      "source": [
        "Upload the kaggle.json"
      ]
    },
    {
      "cell_type": "code",
      "metadata": {
        "id": "Vy9AxfU_tyjc",
        "colab_type": "code",
        "colab": {}
      },
      "source": [
        "from google.colab import files\n",
        "files.upload()"
      ],
      "execution_count": 0,
      "outputs": []
    },
    {
      "cell_type": "markdown",
      "metadata": {
        "id": "_iu67x1et-pt",
        "colab_type": "text"
      },
      "source": [
        "Create the necessary folder path"
      ]
    },
    {
      "cell_type": "code",
      "metadata": {
        "id": "iybWZQugt-yS",
        "colab_type": "code",
        "colab": {}
      },
      "source": [
        "!mkdir -p ~/.kaggle\n",
        "!cp kaggle.json ~/.kaggle/\n",
        "!ls ~/.kaggle\n",
        "!chmod 600 /root/.kaggle/kaggle.json  # set permission"
      ],
      "execution_count": 0,
      "outputs": []
    },
    {
      "cell_type": "markdown",
      "metadata": {
        "id": "-AEp2ZHsqiF2",
        "colab_type": "text"
      },
      "source": [
        "Download the dataset from kaggle with API"
      ]
    },
    {
      "cell_type": "code",
      "metadata": {
        "id": "qvi5l-PrqkE1",
        "colab_type": "code",
        "colab": {}
      },
      "source": [
        "! kaggle datasets download -d paultimothymooney/chest-xray-pneumonia -p /content/gdrive/My\\ Drive/pneumonia"
      ],
      "execution_count": 0,
      "outputs": []
    },
    {
      "cell_type": "markdown",
      "metadata": {
        "id": "is2b3sWYqlr2",
        "colab_type": "text"
      },
      "source": [
        "Unzip all files"
      ]
    },
    {
      "cell_type": "code",
      "metadata": {
        "id": "S5IjJAiLqntM",
        "colab_type": "code",
        "colab": {}
      },
      "source": [
        "import os\n",
        "os.chdir('gdrive/My Drive/pneumonia')\n",
        "!unzip -q chest-xray-pneumonia.zip "
      ],
      "execution_count": 0,
      "outputs": []
    },
    {
      "cell_type": "markdown",
      "metadata": {
        "id": "WCfbjMEjMUAV",
        "colab_type": "text"
      },
      "source": [
        "To make sure Colab uses GPU you can run"
      ]
    },
    {
      "cell_type": "code",
      "metadata": {
        "id": "NVDkDXBqMT4u",
        "colab_type": "code",
        "outputId": "599e002e-375a-43ec-f728-4aea4c7faf61",
        "colab": {
          "base_uri": "https://localhost:8080/",
          "height": 34
        }
      },
      "source": [
        "import tensorflow as tf\n",
        "tf.test.gpu_device_name()"
      ],
      "execution_count": 0,
      "outputs": [
        {
          "output_type": "execute_result",
          "data": {
            "text/plain": [
              "'/device:GPU:0'"
            ]
          },
          "metadata": {
            "tags": []
          },
          "execution_count": 2
        }
      ]
    },
    {
      "cell_type": "markdown",
      "metadata": {
        "id": "6q2S_WvhNppH",
        "colab_type": "text"
      },
      "source": [
        "Make sure that the current GPU memory utilization is 0"
      ]
    },
    {
      "cell_type": "code",
      "metadata": {
        "id": "7qs6TSp7MnZa",
        "colab_type": "code",
        "outputId": "a394eeb2-254d-415c-f266-6dd131024936",
        "colab": {
          "base_uri": "https://localhost:8080/",
          "height": 108
        }
      },
      "source": [
        "!ln -sf /opt/bin/nvidia-smi /usr/bin/nvidia-smi\n",
        "!pip install gputil\n",
        "!pip install psutil\n",
        "!pip install humanize\n",
        "import psutil\n",
        "import humanize\n",
        "import os\n",
        "import GPUtil as GPU\n",
        "GPUs = GPU.getGPUs()\n",
        "# XXX: only one GPU on Colab and isn’t guaranteed\n",
        "gpu = GPUs[0]\n",
        "def printm():\n",
        " process = psutil.Process(os.getpid())\n",
        " print(\"Gen RAM Free: \" + humanize.naturalsize( psutil.virtual_memory().available ), \" | Proc size: \" + humanize.naturalsize( process.memory_info().rss))\n",
        " print(\"GPU RAM Free: {0:.0f}MB | Used: {1:.0f}MB | Util {2:3.0f}% | Total {3:.0f}MB\".format(gpu.memoryFree, gpu.memoryUsed, gpu.memoryUtil*100, gpu.memoryTotal))\n",
        "printm() "
      ],
      "execution_count": 0,
      "outputs": [
        {
          "output_type": "stream",
          "text": [
            "Requirement already satisfied: gputil in /usr/local/lib/python3.6/dist-packages (1.4.0)\n",
            "Requirement already satisfied: psutil in /usr/local/lib/python3.6/dist-packages (5.4.8)\n",
            "Requirement already satisfied: humanize in /usr/local/lib/python3.6/dist-packages (0.5.1)\n",
            "Gen RAM Free: 26.3 GB  | Proc size: 159.9 MB\n",
            "GPU RAM Free: 11441MB | Used: 0MB | Util   0% | Total 11441MB\n"
          ],
          "name": "stdout"
        }
      ]
    },
    {
      "cell_type": "markdown",
      "metadata": {
        "id": "eD7lCjFMNzko",
        "colab_type": "text"
      },
      "source": [
        "If Util not 0% use kill"
      ]
    },
    {
      "cell_type": "code",
      "metadata": {
        "id": "0GWVYD-uM3bL",
        "colab_type": "code",
        "colab": {}
      },
      "source": [
        "!kill -9 -1"
      ],
      "execution_count": 0,
      "outputs": []
    },
    {
      "cell_type": "markdown",
      "metadata": {
        "id": "XtJkcrhBqvAm",
        "colab_type": "text"
      },
      "source": [
        "Import libraries"
      ]
    },
    {
      "cell_type": "code",
      "metadata": {
        "id": "WXV2A0LiqzNm",
        "colab_type": "code",
        "colab": {
          "base_uri": "https://localhost:8080/",
          "height": 34
        },
        "outputId": "a753aeca-d55e-4f12-f8dd-c8dfe4decebe"
      },
      "source": [
        "import numpy as np\n",
        "import keras\n",
        "from keras import applications, Sequential, Model, optimizers, models\n",
        "from keras.callbacks import ReduceLROnPlateau, EarlyStopping, History\n",
        "from keras.layers import Flatten, Dense\n",
        "from keras.utils import to_categorical\n",
        "from tqdm import tqdm\n",
        "import os\n",
        "import h5py\n",
        "from PIL import Image\n",
        "import matplotlib.pyplot as plt"
      ],
      "execution_count": 2,
      "outputs": [
        {
          "output_type": "stream",
          "text": [
            "Using TensorFlow backend.\n"
          ],
          "name": "stderr"
        }
      ]
    },
    {
      "cell_type": "markdown",
      "metadata": {
        "id": "Y20XxIFUq1DG",
        "colab_type": "text"
      },
      "source": [
        "Variables with train and test directories. \n",
        "Some constant variables."
      ]
    },
    {
      "cell_type": "code",
      "metadata": {
        "id": "W2XmpPN4q2rU",
        "colab_type": "code",
        "colab": {}
      },
      "source": [
        "trainInput = \"/content/gdrive/My Drive/pneumonia/chest_xray/chest_xray/train/\"\n",
        "testInput = \"/content/gdrive/My Drive/pneumonia/chest_xray/chest_xray/test/\"\n",
        "validationInput = \"/content/gdrive/My Drive/pneumonia/chest_xray/chest_xray/val/\"\n",
        "size = 199\n",
        "epochs = 3\n",
        "fileName = \"/content/gdrive/My Drive/pneumonia/images.h5\"\n",
        "modelsDir = \"/content/gdrive/My Drive/pneumonia/models/\""
      ],
      "execution_count": 0,
      "outputs": []
    },
    {
      "cell_type": "code",
      "metadata": {
        "id": "MDL1eym4q30E",
        "colab_type": "code",
        "colab": {}
      },
      "source": [
        "def extractData(directory):\n",
        "    labels = []\n",
        "    images = []\n",
        "\n",
        "    for nextDirectory in os.listdir(directory):\n",
        "        if not nextDirectory.startswith(\".\"):\n",
        "            if nextDirectory in \"NORMAL\":\n",
        "                label = 0\n",
        "            elif nextDirectory in \"PNEUMONIA\":\n",
        "                label = 1\n",
        "            else:\n",
        "                label = 2\n",
        "\n",
        "            currentDirectory = directory + nextDirectory\n",
        "            if not currentDirectory.startswith(\".\"):\n",
        "                for files in tqdm(os.listdir(currentDirectory)):\n",
        "                    if files.endswith('.jpg') or files.endswith('.jpeg'):\n",
        "                        imagePath = currentDirectory + \"/\" + files\n",
        "                        img = Image.open(imagePath)\n",
        "                        img = img.resize((size, size)).convert(\"RGB\")\n",
        "                        data = np.array(img.getdata())\n",
        "                        img = 2 * (data.reshape((img.size[0], img.size[1], 3)).astype(np.float32) / 255) - 1\n",
        "                        images.append(img)\n",
        "                        labels.append(label)\n",
        "\n",
        "    labels = np.asarray(labels)\n",
        "\n",
        "    if directory == trainInput:\n",
        "        out = h5py.File(fileName, \"a\")\n",
        "        out.create_dataset(\"imagesTrain\", data=images)\n",
        "        out.create_dataset(\"labelsTrain\", data=labels)\n",
        "        out.close()\n",
        "    elif directory == testInput:\n",
        "        out = h5py.File(fileName, \"a\")\n",
        "        out.create_dataset(\"imagesTest\", data=images)\n",
        "        out.create_dataset(\"labelsTest\", data=labels)\n",
        "        out.close()\n",
        "    elif directory == validationInput:\n",
        "        out = h5py.File(fileName, \"a\")\n",
        "        out.create_dataset(\"imagesValidation\", data=images)\n",
        "        out.create_dataset(\"labelsValidation\", data=labels)\n",
        "        out.close()\n",
        "    else:\n",
        "        pass"
      ],
      "execution_count": 0,
      "outputs": []
    },
    {
      "cell_type": "code",
      "metadata": {
        "id": "l5SZ9s-IvZz5",
        "colab_type": "code",
        "outputId": "2e5aee94-9674-452f-ee1e-02bc29f695a2",
        "colab": {
          "base_uri": "https://localhost:8080/",
          "height": 126
        }
      },
      "source": [
        "extractData(trainInput)\n",
        "extractData(testInput)\n",
        "extractData(validationInput)"
      ],
      "execution_count": 0,
      "outputs": [
        {
          "output_type": "stream",
          "text": [
            "100%|██████████| 1342/1342 [09:05<00:00,  2.46it/s]\n",
            "100%|██████████| 3876/3876 [24:30<00:00,  2.64it/s]\n",
            "100%|██████████| 234/234 [01:33<00:00,  2.51it/s]\n",
            "100%|██████████| 390/390 [02:27<00:00,  2.64it/s]\n",
            "100%|██████████| 9/9 [00:00<00:00, 20.21it/s]\n",
            "100%|██████████| 9/9 [00:00<00:00, 25.17it/s]\n"
          ],
          "name": "stderr"
        }
      ]
    },
    {
      "cell_type": "markdown",
      "metadata": {
        "id": "BNA2rFbN9m1j",
        "colab_type": "text"
      },
      "source": [
        "Get the images and labels"
      ]
    },
    {
      "cell_type": "code",
      "metadata": {
        "id": "ZnTukdAeb0dL",
        "colab_type": "code",
        "outputId": "de7c2a03-5266-4eb4-b591-05539aa173c5",
        "colab": {
          "base_uri": "https://localhost:8080/",
          "height": 34
        }
      },
      "source": [
        "x = h5py.File(fileName, \"r\")[\"imagesTrain\"][:]\n",
        "print(x.shape)"
      ],
      "execution_count": 0,
      "outputs": [
        {
          "output_type": "stream",
          "text": [
            "(5216, 199, 199, 3)\n"
          ],
          "name": "stdout"
        }
      ]
    },
    {
      "cell_type": "code",
      "metadata": {
        "id": "RdrcPl01q5KE",
        "colab_type": "code",
        "colab": {}
      },
      "source": [
        "dset = h5py.File(fileName, \"r\")\n",
        "labelsTrain, imagesTrain, labelsTest, imagesTest, labelsValidation, imagesValidation = dset[\"labelsTrain\"][:], dset[\"imagesTrain\"][:], dset[\"labelsTest\"][:], dset[\"imagesTest\"][:], dset[\"labelsValidation\"][:], dset[\"imagesValidation\"][:]"
      ],
      "execution_count": 0,
      "outputs": []
    },
    {
      "cell_type": "markdown",
      "metadata": {
        "id": "M81QETYCSSdf",
        "colab_type": "text"
      },
      "source": [
        "Reshape if fit_generator dont work"
      ]
    },
    {
      "cell_type": "code",
      "metadata": {
        "id": "9OavjTzoSTU2",
        "colab_type": "code",
        "outputId": "492575eb-ecce-4769-d468-e51f053e1c86",
        "colab": {
          "base_uri": "https://localhost:8080/",
          "height": 52
        }
      },
      "source": [
        "labelsTrain = to_categorical(labelsTrain, 2)\n",
        "labelsTest = to_categorical(labelsTest, 2)\n",
        "labelsValidation = to_categorical(labelsValidation, 2)\n",
        "print(\"Train:\", imagesTrain.shape, \"Test:\", imagesTest.shape, \"Validation:\", imagesValidation.shape)\n",
        "print(\"Train:\", labelsTrain.shape, \"Test:\", labelsTest.shape, \"Validation:\", labelsValidation.shape)"
      ],
      "execution_count": 5,
      "outputs": [
        {
          "output_type": "stream",
          "text": [
            "Train: (5216, 199, 199, 3) Test: (624, 199, 199, 3) Validation: (16, 199, 199, 3)\n",
            "Train: (5216, 2) Test: (624, 2) Validation: (16, 2)\n"
          ],
          "name": "stdout"
        }
      ]
    },
    {
      "cell_type": "markdown",
      "metadata": {
        "id": "uAo1519Ht-YQ",
        "colab_type": "text"
      },
      "source": [
        "Add an model, the weights can be none or imagenet. Imagenet is pre-trained on ImageNet.     \n",
        "include_top is set False in order to exclude the last three layers (including the final softmax layer with 200 classes of output)"
      ]
    },
    {
      "cell_type": "markdown",
      "metadata": {
        "id": "JKxNKry6Fk6e",
        "colab_type": "text"
      },
      "source": [
        "This callback monitors a quantity and if no improvement is seen for a 'patience' number of epochs, the learning rate is reduced.\n",
        "Reduce learning rate when a metric has stopped improving."
      ]
    },
    {
      "cell_type": "markdown",
      "metadata": {
        "id": "iTPxoU9Y0uZv",
        "colab_type": "text"
      },
      "source": [
        "Flatten() layer to flatten the tensor output. Dense is 2D layer which support the specification of their input shape. relu and softmax are different activations which used with layers, either can be used by activation layers. Activations: https://keras.io/activations/. Optimizers: https://keras.io/optimizers/. Losses: https://keras.io/losses/. Metrics: https://keras.io/metrics/. Compilation: https://keras.io/getting-started/sequential-model-guide/."
      ]
    },
    {
      "cell_type": "markdown",
      "metadata": {
        "id": "9AkYHdHbNvF0",
        "colab_type": "text"
      },
      "source": [
        "Measure time and creation of fit_generator: https://keras.io/models/model/#fit_generator , https://keras.io/models/model/#fit"
      ]
    },
    {
      "cell_type": "markdown",
      "metadata": {
        "id": "JK0KrMa7QXFl",
        "colab_type": "text"
      },
      "source": [
        "Save the model"
      ]
    },
    {
      "cell_type": "code",
      "metadata": {
        "id": "JvphCiBO6XG7",
        "colab_type": "code",
        "colab": {}
      },
      "source": [
        "reduceLearningRate = ReduceLROnPlateau(monitor='loss', factor=0.1, patience=2, cooldown=2, min_lr=0.001, verbose=1)\n",
        "# reduceLearningRate = ReduceLROnPlateau(monitor='val_acc', factor=0.1, epsilon=0.0001, patience=1, verbose=1) \n",
        "earlyStop = EarlyStopping(monitor='val_loss', patience=5, verbose=1)\n",
        "callbacks = [reduceLearningRate, earlyStop]\n",
        "\n",
        "def trainModel(model, name):\n",
        "  global history\n",
        "  pattern = model(weights='imagenet', include_top=False, input_shape=(size, size, 3))\n",
        "\n",
        "  addModel = Sequential()\n",
        "\n",
        "  addModel.add(Flatten(input_shape=pattern.output_shape[1:]))\n",
        "\n",
        "  addModel.add(Dense(256, activation='relu'))\n",
        "  addModel.add(Dense(128, activation='relu'))\n",
        "  addModel.add(Dense(2, activation='softmax'))\n",
        "\n",
        "  md = Model(inputs=pattern.input, outputs=addModel(pattern.output))\n",
        "  md.compile(loss='categorical_crossentropy', \n",
        "                  optimizer=optimizers.SGD(lr=1e-4, momentum=0.9), \n",
        "                  metrics=['accuracy'])\n",
        "  \n",
        "  history = md.fit(imagesTrain, labelsTrain, \n",
        "                   validation_data=(imagesTest, labelsTest),\n",
        "                   callbacks=callbacks, epochs=epochs)\n",
        "  \n",
        "  md.save(modelsDir + name + \".h5\")"
      ],
      "execution_count": 0,
      "outputs": []
    },
    {
      "cell_type": "code",
      "metadata": {
        "id": "DyuzSVPr6mVH",
        "colab_type": "code",
        "outputId": "34d51c56-d989-4540-dca5-bf3583713600",
        "colab": {
          "base_uri": "https://localhost:8080/",
          "height": 301
        }
      },
      "source": [
        "trainModel(applications.InceptionV3, \"InceptionV3\")\n",
        "trainModel(applications.Xception, \"Xception\")\n",
        "trainModel(applications.DenseNet201, \"DenseNet201\")\n",
        "trainModel(applications.InceptionResNetV2, \"InceptionResNetV2\")\n",
        "trainModel(applications.MobileNetV2, \"MobileNetV2\")\n",
        "trainModel(applications.VGG16, \"VGG16\")\n",
        "trainModel(applications.ResNet152V2, \"ResNet152V2\")"
      ],
      "execution_count": 0,
      "outputs": [
        {
          "output_type": "stream",
          "text": [
            "Train on 5216 samples, validate on 624 samples\n",
            "Epoch 1/3\n",
            "5216/5216 [==============================] - 51s 10ms/step - loss: 0.3081 - accuracy: 0.8668 - val_loss: 0.6838 - val_accuracy: 0.7436\n",
            "Epoch 2/3\n",
            "5216/5216 [==============================] - 35s 7ms/step - loss: 0.1143 - accuracy: 0.9592 - val_loss: 0.6683 - val_accuracy: 0.7708\n",
            "Epoch 3/3\n",
            "5216/5216 [==============================] - 35s 7ms/step - loss: 0.0686 - accuracy: 0.9764 - val_loss: 0.5405 - val_accuracy: 0.8349\n",
            "Downloading data from https://github.com/fchollet/deep-learning-models/releases/download/v0.4/xception_weights_tf_dim_ordering_tf_kernels_notop.h5\n",
            "83689472/83683744 [==============================] - 1s 0us/step\n",
            "Train on 5216 samples, validate on 624 samples\n",
            "Epoch 1/3\n",
            "5216/5216 [==============================] - 87s 17ms/step - loss: 0.2508 - accuracy: 0.8957 - val_loss: 0.5035 - val_accuracy: 0.7548\n",
            "Epoch 2/3\n",
            "5216/5216 [==============================] - 78s 15ms/step - loss: 0.1235 - accuracy: 0.9523 - val_loss: 0.6224 - val_accuracy: 0.7356\n",
            "Epoch 3/3\n",
            "5216/5216 [==============================] - 78s 15ms/step - loss: 0.0861 - accuracy: 0.9674 - val_loss: 0.5152 - val_accuracy: 0.7901\n"
          ],
          "name": "stdout"
        }
      ]
    },
    {
      "cell_type": "markdown",
      "metadata": {
        "id": "CamtYWuASxqC",
        "colab_type": "text"
      },
      "source": [
        "Load model and prediction"
      ]
    },
    {
      "cell_type": "code",
      "metadata": {
        "id": "-70Pw2v1jDG7",
        "colab_type": "code",
        "colab": {}
      },
      "source": [
        "def global_test(dir_models, dir_test_image):\n",
        "\n",
        "    models_stat = []\n",
        "    num_mod = 0\n",
        "\n",
        "    labels = []\n",
        "    images = []\n",
        "\n",
        "    for nextDirectory in os.listdir(dir_test_image):\n",
        "        if not nextDirectory.startswith(\".\"):\n",
        "            if nextDirectory in \"NORMAL\":\n",
        "                label = 0\n",
        "            elif nextDirectory in \"PNEUMONIA\":\n",
        "                label = 1\n",
        "            else:\n",
        "                label = 2\n",
        "\n",
        "            currentDirectory = dir_test_image + nextDirectory\n",
        "            if not currentDirectory.startswith(\".\"):\n",
        "                for files in os.listdir(currentDirectory):\n",
        "                    if files.endswith('.jpg') or files.endswith('.jpeg'):\n",
        "                        imagePath = currentDirectory + \"/\" + files\n",
        "                        img = Image.open(imagePath)\n",
        "                        img = img.resize((size, size)).convert(\"RGB\")\n",
        "                        data = np.array(img.getdata())\n",
        "                        img = 2 * (data.reshape((img.size[0], img.size[1], 3)).astype(np.float32) / 255) - 1\n",
        "                        images.append(img)\n",
        "                        labels.append(label)\n",
        "\n",
        "    labels = np.asarray(labels)\n",
        "    average_accuracy = [0] * len(labels)\n",
        "\n",
        "    out = h5py.File(\"/content/gdrive/My Drive/pneumonia/tmptest.h5\", \"a\")\n",
        "    out.create_dataset(\"imagesTmp\", data=images)\n",
        "    out.close()\n",
        "\n",
        "    dset = h5py.File(\"/content/gdrive/My Drive/pneumonia/tmptest.h5\", \"r\")\n",
        "    imagesTmp = dset[\"imagesTmp\"][:]\n",
        "    os.remove(\"/content/gdrive/My Drive/pneumonia/tmptest.h5\")\n",
        "\n",
        "    for file_model in os.listdir(dir_models):\n",
        "        num_mod += 1\n",
        "\n",
        "        dir_model = dir_models + \"/\" + file_model\n",
        "        name = file_model[:-3]\n",
        "        model_stat = [name]\n",
        "    \n",
        "        model = models.load_model(dir_model)\n",
        "        predictions = model.predict(imagesTmp)\n",
        "        predictions = predictions.reshape(1, -1)[0]\n",
        "\n",
        "        accuracy_array = []\n",
        "\n",
        "        x = -1\n",
        "        for i in range(0, len(predictions), 2):\n",
        "            x += 1  \n",
        "            if predictions[i] > predictions[i + 1]:\n",
        "                if labels[x] == 0:\n",
        "                   accuracy_array.append(predictions[i])\n",
        "                   average_accuracy[x] += predictions[i]\n",
        "                else: \n",
        "                   accuracy_array.append(predictions[i + 1])  \n",
        "                   average_accuracy[x] += predictions[i + 1]\n",
        "\n",
        "            if predictions[i] < predictions[i + 1]:\n",
        "               if labels[x] == 1:\n",
        "                 accuracy_array.append(predictions[i + 1])\n",
        "                 average_accuracy[x] += predictions[i + 1]\n",
        "               else: \n",
        "                  accuracy_array.append(predictions[i])\n",
        "                  average_accuracy[x] += predictions[i]\n",
        "\n",
        "        model_stat.append(np.sum(accuracy_array) / len(accuracy_array) * 100)\n",
        "        models_stat.append(model_stat)\n",
        "        # print(model_stat)\n",
        "    for i in range(len(average_accuracy)):\n",
        "        average_accuracy[i] = average_accuracy[i] / num_mod\n",
        "    models_stat.append([\"Average\", np.sum(average_accuracy) / len(average_accuracy) * 100])\n",
        "    # print([\"Average\", np.sum(average_accuracy) / len(average_accuracy) * 100])\n",
        "\n",
        "    x_data = []\n",
        "    y_data = []\n",
        "    for i in range(len(models_stat)): \n",
        "        x_data.append(models_stat[i][0])\n",
        "        y_data.append(models_stat[i][1])\n",
        "    _, ax = plt.subplots()\n",
        "    ax.bar(x_data, y_data, color = '#539caf', align = 'center')\n",
        "    ax.set_ylabel(\"Accuracy\")\n",
        "    ax.set_xlabel(\"Models\") "
      ],
      "execution_count": 0,
      "outputs": []
    },
    {
      "cell_type": "code",
      "metadata": {
        "id": "u0S-IjO1jG74",
        "colab_type": "code",
        "colab": {
          "base_uri": "https://localhost:8080/",
          "height": 278
        },
        "outputId": "e87c11d2-a75d-4758-b165-1bdeefe5927b"
      },
      "source": [
        "global_test(modelsDir, \"/content/gdrive/My Drive/pneumonia/test/\")"
      ],
      "execution_count": 17,
      "outputs": [
        {
          "output_type": "display_data",
          "data": {
            "image/png": "[encoded data removed]",
            "text/plain": [
              "<Figure size 432x288 with 1 Axes>"
            ]
          },
          "metadata": {
            "tags": [],
            "needs_background": "light"
          }
        }
      ]
    },
    {
      "cell_type": "code",
      "metadata": {
        "id": "l0ApnTjzjHcH",
        "colab_type": "code",
        "colab": {}
      },
      "source": [
        "def global_predict(dir_models, dir_image):\n",
        "\n",
        "    images_stat = []\n",
        "    num_mod = 0\n",
        "\n",
        "    name_image = []\n",
        "    images = []\n",
        "\n",
        "    for files in os.listdir(dir_image):\n",
        "        if files.endswith('.jpg') or files.endswith('.jpeg'):\n",
        "            imagePath = dir_image + files\n",
        "            name_image.append(files)\n",
        "            img = Image.open(imagePath)\n",
        "            img = img.resize((size, size)).convert(\"RGB\")\n",
        "            data = np.array(img.getdata())\n",
        "            img = 2 * (data.reshape((img.size[0], img.size[1], 3)).astype(np.float32) / 255) - 1\n",
        "            images.append(img)\n",
        "\n",
        "    out = h5py.File(\"/content/gdrive/My Drive/pneumonia/tmptest.h5\", \"a\")\n",
        "    out.create_dataset(\"imagesTmp\", data=images)\n",
        "    out.close()\n",
        "\n",
        "    dset = h5py.File(\"/content/gdrive/My Drive/pneumonia/tmptest.h5\", \"r\")\n",
        "    imagesTmp = dset[\"imagesTmp\"][:]\n",
        "    os.remove(\"/content/gdrive/My Drive/pneumonia/tmptest.h5\")\n",
        "\n",
        "    for file_model in os.listdir(dir_models):\n",
        "      print(\"==================================================\\nCurrent model is: \", file_model)\n",
        "      num_mod += 1\n",
        "      dir_model = dir_models + \"/\" + file_model\n",
        "  \n",
        "      model = models.load_model(dir_model)\n",
        "      predictions = model.predict(imagesTmp)\n",
        "      predictions = predictions.reshape(1, -1)[0]\n",
        "\n",
        "      accuracy_array = []\n",
        "\n",
        "      for i in range(0, len(predictions), 2):\n",
        "          accuracy_array.append(predictions[i + 1])\n",
        "      images_stat.append(accuracy_array)\n",
        "      print(accuracy_array)\n",
        "    result = []    \n",
        "\n",
        "    for i in range(len(name_image)):\n",
        "        sum_ac = 0\n",
        "        for j in range(num_mod):\n",
        "            sum_ac += images_stat[j][i]  \n",
        "        result.append([name_image[i], sum_ac / num_mod * 100])\n",
        "    print(result)"
      ],
      "execution_count": 0,
      "outputs": []
    },
    {
      "cell_type": "code",
      "metadata": {
        "id": "2yENubwpjKDx",
        "colab_type": "code",
        "colab": {
          "base_uri": "https://localhost:8080/",
          "height": 427
        },
        "outputId": "092334cb-6444-4483-d232-42e489c94fa5"
      },
      "source": [
        "global_predict(modelsDir, \"/content/gdrive/My Drive/pneumonia/predict/\")"
      ],
      "execution_count": 20,
      "outputs": [
        {
          "output_type": "stream",
          "text": [
            "==================================================\n",
            "Current model is:  DenseNet201.h5\n",
            "[0.80515814, 0.31375903, 0.9218358, 0.21440962, 0.27970856, 0.9933089, 0.9997603, 0.99996066, 0.9999448, 0.9999738, 0.99963653]\n",
            "==================================================\n",
            "Current model is:  InceptionV3.h5\n",
            "[0.40310085, 0.10136545, 0.06597551, 0.73889625, 0.07067555, 0.999403, 0.999979, 0.9999894, 0.99999845, 0.9999951, 0.9999865]\n",
            "==================================================\n",
            "Current model is:  Xception.h5\n",
            "[0.75224245, 0.9093114, 0.42268726, 0.3660663, 0.67556673, 0.9520684, 0.99998724, 0.9876858, 0.99970955, 0.992174, 0.99277765]\n",
            "==================================================\n",
            "Current model is:  InceptionResNetV2.h5\n",
            "[0.46895933, 0.38373956, 0.10561333, 0.6876495, 0.10917726, 0.99903405, 0.9977284, 0.999183, 0.9996574, 0.9999672, 0.99894005]\n",
            "==================================================\n",
            "Current model is:  ResNet152V2.h5\n",
            "[0.6803595, 0.4239296, 0.19710515, 0.64173937, 0.23886223, 0.9997682, 0.99869365, 0.9995278, 0.9996364, 0.9993544, 0.9971312]\n",
            "==================================================\n",
            "Current model is:  VGG16.h5\n",
            "[0.86695546, 0.15812369, 0.32251948, 0.46605688, 0.09625916, 0.9991066, 0.9999708, 0.99998987, 0.9999335, 0.9999831, 0.99993014]\n",
            "==================================================\n",
            "Current model is:  MobileNetV2.h5\n",
            "[0.18382409, 0.07634474, 0.25555715, 0.2261674, 0.03265051, 0.99678373, 0.99986184, 0.9999821, 0.9998324, 0.99991584, 0.9998671]\n",
            "[['IM-0001-0001.jpeg', 59.43713997091565], ['IM-0003-0001.jpeg', 33.80819261074066], ['IM-0005-0001.jpeg', 32.73276665381023], ['IM-0006-0001.jpeg', 47.72836161511285], ['IM-0007-0001.jpeg', 21.470000222325325], ['person1_virus_6.jpeg', 99.13532648767743], ['person1_virus_7.jpeg', 99.94258965764728], ['person1_virus_8.jpeg', 99.80455211230687], ['person1_virus_9.jpeg', 99.98160685811725], ['person1_virus_11.jpeg', 99.87662093979972], ['person1_virus_12.jpeg', 99.83241728373936]]\n"
          ],
          "name": "stdout"
        }
      ]
    }
  ]
}