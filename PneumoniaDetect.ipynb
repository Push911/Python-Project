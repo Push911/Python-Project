{
  "nbformat": 4,
  "nbformat_minor": 0,
  "metadata": {
    "colab": {
      "name": "PneumoniaDetect.ipynb",
      "provenance": [],
      "collapsed_sections": [],
      "machine_shape": "hm"
    },
    "kernelspec": {
      "name": "python3",
      "display_name": "Python 3"
    },
    "accelerator": "GPU"
  },
  "cells": [
    {
      "cell_type": "markdown",
      "metadata": {
        "id": "i-fes2Zjw5b9",
        "colab_type": "text"
      },
      "source": [
        "Add google disk"
      ]
    },
    {
      "cell_type": "code",
      "metadata": {
        "id": "cGdGmTl-sKXm",
        "colab_type": "code",
        "outputId": "b7554eaa-c899-4f75-ab18-caf792afe229",
        "colab": {
          "base_uri": "https://localhost:8080/",
          "height": 125
        }
      },
      "source": [
        "from google.colab import drive\n",
        "drive.mount('/content/gdrive')"
      ],
      "execution_count": 1,
      "outputs": [
        {
          "output_type": "stream",
          "text": [
            "Go to this URL in a browser: https://accounts.google.com/o/oauth2/auth?client_id=947318989803-6bn6qk8qdgf4n4g3pfee6491hc0brc4i.apps.googleusercontent.com&redirect_uri=urn%3aietf%3awg%3aoauth%3a2.0%3aoob&response_type=code&scope=email%20https%3a%2f%2fwww.googleapis.com%2fauth%2fdocs.test%20https%3a%2f%2fwww.googleapis.com%2fauth%2fdrive%20https%3a%2f%2fwww.googleapis.com%2fauth%2fdrive.photos.readonly%20https%3a%2f%2fwww.googleapis.com%2fauth%2fpeopleapi.readonly\n",
            "\n",
            "Enter your authorization code:\n",
            "··········\n",
            "Mounted at /content/gdrive\n"
          ],
          "name": "stdout"
        }
      ]
    },
    {
      "cell_type": "markdown",
      "metadata": {
        "id": "e-xgx4Qrqb3b",
        "colab_type": "text"
      },
      "source": [
        "Install the kaggle to system"
      ]
    },
    {
      "cell_type": "code",
      "metadata": {
        "id": "MsjkWsp7qGs0",
        "colab_type": "code",
        "colab": {}
      },
      "source": [
        "!pip install -q kaggle"
      ],
      "execution_count": 0,
      "outputs": []
    },
    {
      "cell_type": "markdown",
      "metadata": {
        "id": "HrhNQM9AtzQl",
        "colab_type": "text"
      },
      "source": [
        "Upload the kaggle.json"
      ]
    },
    {
      "cell_type": "code",
      "metadata": {
        "id": "Vy9AxfU_tyjc",
        "colab_type": "code",
        "colab": {}
      },
      "source": [
        "from google.colab import files\n",
        "files.upload()"
      ],
      "execution_count": 0,
      "outputs": []
    },
    {
      "cell_type": "markdown",
      "metadata": {
        "id": "_iu67x1et-pt",
        "colab_type": "text"
      },
      "source": [
        "Create the necessary folder path"
      ]
    },
    {
      "cell_type": "code",
      "metadata": {
        "id": "iybWZQugt-yS",
        "colab_type": "code",
        "colab": {}
      },
      "source": [
        "!mkdir -p ~/.kaggle\n",
        "!cp kaggle.json ~/.kaggle/\n",
        "!ls ~/.kaggle\n",
        "!chmod 600 /root/.kaggle/kaggle.json  # set permission"
      ],
      "execution_count": 0,
      "outputs": []
    },
    {
      "cell_type": "markdown",
      "metadata": {
        "id": "-AEp2ZHsqiF2",
        "colab_type": "text"
      },
      "source": [
        "Download the dataset from kaggle with API"
      ]
    },
    {
      "cell_type": "code",
      "metadata": {
        "id": "qvi5l-PrqkE1",
        "colab_type": "code",
        "colab": {}
      },
      "source": [
        "! kaggle datasets download -d paultimothymooney/chest-xray-pneumonia -p /content/gdrive/My\\ Drive/pneumonia"
      ],
      "execution_count": 0,
      "outputs": []
    },
    {
      "cell_type": "markdown",
      "metadata": {
        "id": "is2b3sWYqlr2",
        "colab_type": "text"
      },
      "source": [
        "Unzip all files"
      ]
    },
    {
      "cell_type": "code",
      "metadata": {
        "id": "S5IjJAiLqntM",
        "colab_type": "code",
        "colab": {}
      },
      "source": [
        "import os\n",
        "os.chdir('gdrive/My Drive/pneumonia')\n",
        "!unzip -q chest-xray-pneumonia.zip "
      ],
      "execution_count": 0,
      "outputs": []
    },
    {
      "cell_type": "markdown",
      "metadata": {
        "id": "WCfbjMEjMUAV",
        "colab_type": "text"
      },
      "source": [
        "To make sure Colab uses GPU you can run"
      ]
    },
    {
      "cell_type": "code",
      "metadata": {
        "id": "NVDkDXBqMT4u",
        "colab_type": "code",
        "outputId": "599e002e-375a-43ec-f728-4aea4c7faf61",
        "colab": {
          "base_uri": "https://localhost:8080/",
          "height": 34
        }
      },
      "source": [
        "import tensorflow as tf\n",
        "tf.test.gpu_device_name()"
      ],
      "execution_count": 0,
      "outputs": [
        {
          "output_type": "execute_result",
          "data": {
            "text/plain": [
              "'/device:GPU:0'"
            ]
          },
          "metadata": {
            "tags": []
          },
          "execution_count": 2
        }
      ]
    },
    {
      "cell_type": "markdown",
      "metadata": {
        "id": "6q2S_WvhNppH",
        "colab_type": "text"
      },
      "source": [
        "Make sure that the current GPU memory utilization is 0"
      ]
    },
    {
      "cell_type": "code",
      "metadata": {
        "id": "7qs6TSp7MnZa",
        "colab_type": "code",
        "outputId": "a394eeb2-254d-415c-f266-6dd131024936",
        "colab": {
          "base_uri": "https://localhost:8080/",
          "height": 108
        }
      },
      "source": [
        "!ln -sf /opt/bin/nvidia-smi /usr/bin/nvidia-smi\n",
        "!pip install gputil\n",
        "!pip install psutil\n",
        "!pip install humanize\n",
        "import psutil\n",
        "import humanize\n",
        "import os\n",
        "import GPUtil as GPU\n",
        "GPUs = GPU.getGPUs()\n",
        "# XXX: only one GPU on Colab and isn’t guaranteed\n",
        "gpu = GPUs[0]\n",
        "def printm():\n",
        " process = psutil.Process(os.getpid())\n",
        " print(\"Gen RAM Free: \" + humanize.naturalsize( psutil.virtual_memory().available ), \" | Proc size: \" + humanize.naturalsize( process.memory_info().rss))\n",
        " print(\"GPU RAM Free: {0:.0f}MB | Used: {1:.0f}MB | Util {2:3.0f}% | Total {3:.0f}MB\".format(gpu.memoryFree, gpu.memoryUsed, gpu.memoryUtil*100, gpu.memoryTotal))\n",
        "printm() "
      ],
      "execution_count": 0,
      "outputs": [
        {
          "output_type": "stream",
          "text": [
            "Requirement already satisfied: gputil in /usr/local/lib/python3.6/dist-packages (1.4.0)\n",
            "Requirement already satisfied: psutil in /usr/local/lib/python3.6/dist-packages (5.4.8)\n",
            "Requirement already satisfied: humanize in /usr/local/lib/python3.6/dist-packages (0.5.1)\n",
            "Gen RAM Free: 26.3 GB  | Proc size: 159.9 MB\n",
            "GPU RAM Free: 11441MB | Used: 0MB | Util   0% | Total 11441MB\n"
          ],
          "name": "stdout"
        }
      ]
    },
    {
      "cell_type": "markdown",
      "metadata": {
        "id": "eD7lCjFMNzko",
        "colab_type": "text"
      },
      "source": [
        "If Util not 0% use kill"
      ]
    },
    {
      "cell_type": "code",
      "metadata": {
        "id": "0GWVYD-uM3bL",
        "colab_type": "code",
        "colab": {}
      },
      "source": [
        "!kill -9 -1"
      ],
      "execution_count": 0,
      "outputs": []
    },
    {
      "cell_type": "markdown",
      "metadata": {
        "id": "XtJkcrhBqvAm",
        "colab_type": "text"
      },
      "source": [
        "Import libraries"
      ]
    },
    {
      "cell_type": "code",
      "metadata": {
        "id": "WXV2A0LiqzNm",
        "colab_type": "code",
        "colab": {}
      },
      "source": [
        "import numpy as np\n",
        "import keras\n",
        "from keras import applications, Sequential, Model, optimizers, models\n",
        "from keras.callbacks import ReduceLROnPlateau, EarlyStopping, History\n",
        "from keras.layers import Flatten, Dense\n",
        "from keras.utils import to_categorical\n",
        "from tqdm import tqdm\n",
        "import os\n",
        "import h5py\n",
        "from PIL import Image\n",
        "import matplotlib.pyplot as plt"
      ],
      "execution_count": 0,
      "outputs": []
    },
    {
      "cell_type": "markdown",
      "metadata": {
        "id": "Y20XxIFUq1DG",
        "colab_type": "text"
      },
      "source": [
        "Variables with train and test directories. \n",
        "Some constant variables."
      ]
    },
    {
      "cell_type": "code",
      "metadata": {
        "id": "W2XmpPN4q2rU",
        "colab_type": "code",
        "colab": {}
      },
      "source": [
        "trainInput = \"/content/gdrive/My Drive/pneumonia/chest_xray/chest_xray/train/\"\n",
        "testInput = \"/content/gdrive/My Drive/pneumonia/chest_xray/chest_xray/test/\"\n",
        "validationInput = \"/content/gdrive/My Drive/pneumonia/chest_xray/chest_xray/val/\"\n",
        "size = 199\n",
        "epochs = 3\n",
        "fileName = \"/content/gdrive/My Drive/pneumonia/images.h5\"\n",
        "modelsDir = \"/content/gdrive/My Drive/pneumonia/models/\""
      ],
      "execution_count": 0,
      "outputs": []
    },
    {
      "cell_type": "code",
      "metadata": {
        "id": "MDL1eym4q30E",
        "colab_type": "code",
        "colab": {}
      },
      "source": [
        "def extractData(directory):\n",
        "    labels = []\n",
        "    images = []\n",
        "\n",
        "    for nextDirectory in os.listdir(directory):\n",
        "        if not nextDirectory.startswith(\".\"):\n",
        "            if nextDirectory in \"NORMAL\":\n",
        "                label = 0\n",
        "            elif nextDirectory in \"PNEUMONIA\":\n",
        "                label = 1\n",
        "            else:\n",
        "                label = 2\n",
        "\n",
        "            currentDirectory = directory + nextDirectory\n",
        "            if not currentDirectory.startswith(\".\"):\n",
        "                for files in tqdm(os.listdir(currentDirectory)):\n",
        "                    if files.endswith('.jpg') or files.endswith('.jpeg'):\n",
        "                        imagePath = currentDirectory + \"/\" + files\n",
        "                        img = Image.open(imagePath)\n",
        "                        img = img.resize((size, size)).convert(\"RGB\")\n",
        "                        data = np.array(img.getdata())\n",
        "                        img = 2 * (data.reshape((img.size[0], img.size[1], 3)).astype(np.float32) / 255) - 1\n",
        "                        images.append(img)\n",
        "                        labels.append(label)\n",
        "\n",
        "    labels = np.asarray(labels)\n",
        "\n",
        "    if directory == trainInput:\n",
        "        out = h5py.File(fileName, \"a\")\n",
        "        out.create_dataset(\"imagesTrain\", data=images)\n",
        "        out.create_dataset(\"labelsTrain\", data=labels)\n",
        "        out.close()\n",
        "    elif directory == testInput:\n",
        "        out = h5py.File(fileName, \"a\")\n",
        "        out.create_dataset(\"imagesTest\", data=images)\n",
        "        out.create_dataset(\"labelsTest\", data=labels)\n",
        "        out.close()\n",
        "    elif directory == validationInput:\n",
        "        out = h5py.File(fileName, \"a\")\n",
        "        out.create_dataset(\"imagesValidation\", data=images)\n",
        "        out.create_dataset(\"labelsValidation\", data=labels)\n",
        "        out.close()\n",
        "    else:\n",
        "        pass"
      ],
      "execution_count": 0,
      "outputs": []
    },
    {
      "cell_type": "code",
      "metadata": {
        "id": "l5SZ9s-IvZz5",
        "colab_type": "code",
        "outputId": "2e5aee94-9674-452f-ee1e-02bc29f695a2",
        "colab": {
          "base_uri": "https://localhost:8080/",
          "height": 126
        }
      },
      "source": [
        "extractData(trainInput)\n",
        "extractData(testInput)\n",
        "extractData(validationInput)"
      ],
      "execution_count": 0,
      "outputs": [
        {
          "output_type": "stream",
          "text": [
            "100%|██████████| 1342/1342 [09:05<00:00,  2.46it/s]\n",
            "100%|██████████| 3876/3876 [24:30<00:00,  2.64it/s]\n",
            "100%|██████████| 234/234 [01:33<00:00,  2.51it/s]\n",
            "100%|██████████| 390/390 [02:27<00:00,  2.64it/s]\n",
            "100%|██████████| 9/9 [00:00<00:00, 20.21it/s]\n",
            "100%|██████████| 9/9 [00:00<00:00, 25.17it/s]\n"
          ],
          "name": "stderr"
        }
      ]
    },
    {
      "cell_type": "markdown",
      "metadata": {
        "id": "BNA2rFbN9m1j",
        "colab_type": "text"
      },
      "source": [
        "Get the images and labels"
      ]
    },
    {
      "cell_type": "code",
      "metadata": {
        "id": "ZnTukdAeb0dL",
        "colab_type": "code",
        "outputId": "de7c2a03-5266-4eb4-b591-05539aa173c5",
        "colab": {
          "base_uri": "https://localhost:8080/",
          "height": 34
        }
      },
      "source": [
        "x = h5py.File(fileName, \"r\")[\"imagesTrain\"][:]\n",
        "print(x.shape)"
      ],
      "execution_count": 0,
      "outputs": [
        {
          "output_type": "stream",
          "text": [
            "(5216, 199, 199, 3)\n"
          ],
          "name": "stdout"
        }
      ]
    },
    {
      "cell_type": "code",
      "metadata": {
        "id": "RdrcPl01q5KE",
        "colab_type": "code",
        "colab": {}
      },
      "source": [
        "dset = h5py.File(fileName, \"r\")\n",
        "labelsTrain, imagesTrain, labelsTest, imagesTest, labelsValidation, imagesValidation = dset[\"labelsTrain\"][:], dset[\"imagesTrain\"][:], dset[\"labelsTest\"][:], dset[\"imagesTest\"][:], dset[\"labelsValidation\"][:], dset[\"imagesValidation\"][:]"
      ],
      "execution_count": 0,
      "outputs": []
    },
    {
      "cell_type": "markdown",
      "metadata": {
        "id": "M81QETYCSSdf",
        "colab_type": "text"
      },
      "source": [
        "Reshape if fit_generator dont work"
      ]
    },
    {
      "cell_type": "code",
      "metadata": {
        "id": "9OavjTzoSTU2",
        "colab_type": "code",
        "outputId": "386b13c6-f4a3-4db0-8bdf-f2240644212a",
        "colab": {
          "base_uri": "https://localhost:8080/",
          "height": 52
        }
      },
      "source": [
        "labelsTrain = to_categorical(labelsTrain, 2)\n",
        "labelsTest = to_categorical(labelsTest, 2)\n",
        "labelsValidation = to_categorical(labelsValidation, 2)\n",
        "print(\"Train:\", imagesTrain.shape, \"Test:\", imagesTest.shape, \"Validation:\", imagesValidation.shape)\n",
        "print(\"Train:\", labelsTrain.shape, \"Test:\", labelsTest.shape, \"Validation:\", labelsValidation.shape)"
      ],
      "execution_count": 39,
      "outputs": [
        {
          "output_type": "stream",
          "text": [
            "Train: (5216, 199, 199, 3) Test: (624, 199, 199, 3) Validation: (16, 199, 199, 3)\n",
            "Train: (5216, 2) Test: (624, 2) Validation: (16, 2)\n"
          ],
          "name": "stdout"
        }
      ]
    },
    {
      "cell_type": "markdown",
      "metadata": {
        "id": "uAo1519Ht-YQ",
        "colab_type": "text"
      },
      "source": [
        "Add an model, the weights can be none or imagenet. Imagenet is pre-trained on ImageNet.     \n",
        "include_top is set False in order to exclude the last three layers (including the final softmax layer with 200 classes of output)"
      ]
    },
    {
      "cell_type": "markdown",
      "metadata": {
        "id": "JKxNKry6Fk6e",
        "colab_type": "text"
      },
      "source": [
        "This callback monitors a quantity and if no improvement is seen for a 'patience' number of epochs, the learning rate is reduced.\n",
        "Reduce learning rate when a metric has stopped improving."
      ]
    },
    {
      "cell_type": "markdown",
      "metadata": {
        "id": "iTPxoU9Y0uZv",
        "colab_type": "text"
      },
      "source": [
        "Flatten() layer to flatten the tensor output. Dense is 2D layer which support the specification of their input shape. relu and softmax are different activations which used with layers, either can be used by activation layers. Activations: https://keras.io/activations/. Optimizers: https://keras.io/optimizers/. Losses: https://keras.io/losses/. Metrics: https://keras.io/metrics/. Compilation: https://keras.io/getting-started/sequential-model-guide/."
      ]
    },
    {
      "cell_type": "markdown",
      "metadata": {
        "id": "9AkYHdHbNvF0",
        "colab_type": "text"
      },
      "source": [
        "Measure time and creation of fit_generator: https://keras.io/models/model/#fit_generator , https://keras.io/models/model/#fit"
      ]
    },
    {
      "cell_type": "markdown",
      "metadata": {
        "id": "JK0KrMa7QXFl",
        "colab_type": "text"
      },
      "source": [
        "Save the model"
      ]
    },
    {
      "cell_type": "code",
      "metadata": {
        "id": "JvphCiBO6XG7",
        "colab_type": "code",
        "colab": {}
      },
      "source": [
        "reduceLearningRate = ReduceLROnPlateau(monitor='loss', factor=0.1, patience=2, cooldown=2, min_lr=0.001, verbose=1)\n",
        "# reduceLearningRate = ReduceLROnPlateau(monitor='val_acc', factor=0.1, epsilon=0.0001, patience=1, verbose=1) \n",
        "earlyStop = EarlyStopping(monitor='val_loss', patience=5, verbose=1)\n",
        "callbacks = [reduceLearningRate, earlyStop]\n",
        "\n",
        "def trainModel(model, name):\n",
        "  global history\n",
        "  pattern = model(weights='imagenet', include_top=False, input_shape=(size, size, 3))\n",
        "\n",
        "  addModel = Sequential()\n",
        "\n",
        "  addModel.add(Flatten(input_shape=pattern.output_shape[1:]))\n",
        "\n",
        "  addModel.add(Dense(256, activation='relu'))\n",
        "  addModel.add(Dense(128, activation='relu'))\n",
        "  addModel.add(Dense(2, activation='softmax'))\n",
        "\n",
        "  md = Model(inputs=pattern.input, outputs=addModel(pattern.output))\n",
        "  md.compile(loss='categorical_crossentropy', \n",
        "                  optimizer=optimizers.SGD(lr=1e-4, momentum=0.9), \n",
        "                  metrics=['accuracy'])\n",
        "  \n",
        "  history = md.fit(imagesTrain, labelsTrain, \n",
        "                   validation_data=(imagesTest, labelsTest),\n",
        "                   callbacks=callbacks, epochs=epochs)\n",
        "  \n",
        "  md.save(modelsDir + name + \".h5\")"
      ],
      "execution_count": 0,
      "outputs": []
    },
    {
      "cell_type": "code",
      "metadata": {
        "id": "DyuzSVPr6mVH",
        "colab_type": "code",
        "colab": {
          "base_uri": "https://localhost:8080/",
          "height": 301
        },
        "outputId": "34d51c56-d989-4540-dca5-bf3583713600"
      },
      "source": [
        "trainModel(applications.InceptionV3, \"InceptionV3\")\n",
        "trainModel(applications.Xception, \"Xception\")"
      ],
      "execution_count": 50,
      "outputs": [
        {
          "output_type": "stream",
          "text": [
            "Train on 5216 samples, validate on 624 samples\n",
            "Epoch 1/3\n",
            "5216/5216 [==============================] - 51s 10ms/step - loss: 0.3081 - accuracy: 0.8668 - val_loss: 0.6838 - val_accuracy: 0.7436\n",
            "Epoch 2/3\n",
            "5216/5216 [==============================] - 35s 7ms/step - loss: 0.1143 - accuracy: 0.9592 - val_loss: 0.6683 - val_accuracy: 0.7708\n",
            "Epoch 3/3\n",
            "5216/5216 [==============================] - 35s 7ms/step - loss: 0.0686 - accuracy: 0.9764 - val_loss: 0.5405 - val_accuracy: 0.8349\n",
            "Downloading data from https://github.com/fchollet/deep-learning-models/releases/download/v0.4/xception_weights_tf_dim_ordering_tf_kernels_notop.h5\n",
            "83689472/83683744 [==============================] - 1s 0us/step\n",
            "Train on 5216 samples, validate on 624 samples\n",
            "Epoch 1/3\n",
            "5216/5216 [==============================] - 87s 17ms/step - loss: 0.2508 - accuracy: 0.8957 - val_loss: 0.5035 - val_accuracy: 0.7548\n",
            "Epoch 2/3\n",
            "5216/5216 [==============================] - 78s 15ms/step - loss: 0.1235 - accuracy: 0.9523 - val_loss: 0.6224 - val_accuracy: 0.7356\n",
            "Epoch 3/3\n",
            "5216/5216 [==============================] - 78s 15ms/step - loss: 0.0861 - accuracy: 0.9674 - val_loss: 0.5152 - val_accuracy: 0.7901\n"
          ],
          "name": "stdout"
        }
      ]
    },
    {
      "cell_type": "markdown",
      "metadata": {
        "id": "-TpVlC_RSM2Y",
        "colab_type": "text"
      },
      "source": [
        "History in graphs"
      ]
    },
    {
      "cell_type": "code",
      "metadata": {
        "id": "IDcLbdhYSNBy",
        "colab_type": "code",
        "outputId": "e786487a-c50c-4692-973e-44fbd7d41872",
        "colab": {
          "base_uri": "https://localhost:8080/",
          "height": 573
        }
      },
      "source": [
        "plt.plot(history.history[\"accuracy\"])\n",
        "plt.plot(history.history[\"val_accuracy\"])\n",
        "plt.title(\"Accuracy\")\n",
        "plt.ylabel(\"Accuracy\")\n",
        "plt.xlabel(\"Epoch\")\n",
        "plt.legend([\"Train\", \"Test\"], loc=\"upper left\")\n",
        "plt.show()\n",
        "\n",
        "plt.plot(history.history[\"loss\"])\n",
        "plt.plot(history.history[\"val_loss\"])\n",
        "plt.title(\"Loss\")\n",
        "plt.ylabel(\"Loss\")\n",
        "plt.xlabel(\"Epoch\")\n",
        "plt.legend([\"Train\", \"Test\"], loc=\"upper left\")\n",
        "plt.show()"
      ],
      "execution_count": 51,
      "outputs": [
        {
          "output_type": "display_data",
          "data": {
            "image/png": "[encoded data removed]",
            "text/plain": [
              "<Figure size 432x288 with 1 Axes>"
            ]
          },
          "metadata": {
            "tags": [],
            "needs_background": "light"
          }
        },
        {
          "output_type": "display_data",
          "data": {
            "image/png": "[encoded data removed]",
            "text/plain": [
              "<Figure size 432x288 with 1 Axes>"
            ]
          },
          "metadata": {
            "tags": [],
            "needs_background": "light"
          }
        }
      ]
    },
    {
      "cell_type": "markdown",
      "metadata": {
        "id": "CamtYWuASxqC",
        "colab_type": "text"
      },
      "source": [
        "Load model"
      ]
    },
    {
      "cell_type": "code",
      "metadata": {
        "id": "_KfJDKllSxJd",
        "colab_type": "code",
        "colab": {}
      },
      "source": [
        "denseNet = modelsDir+\"DenseNet201.h5\"\n",
        "dense = keras.models.load_model(denseNet)"
      ],
      "execution_count": 0,
      "outputs": []
    },
    {
      "cell_type": "markdown",
      "metadata": {
        "id": "Na80cvWza-DW",
        "colab_type": "text"
      },
      "source": [
        "We have 16 images in validation, as we see its nearly predict some images, and \n",
        "gives an understanding about the remaining images\n"
      ]
    },
    {
      "cell_type": "code",
      "metadata": {
        "id": "EOvoXu9ia-Il",
        "colab_type": "code",
        "outputId": "f729f355-9293-464c-f9cd-e08cb3f84a32",
        "colab": {
          "base_uri": "https://localhost:8080/",
          "height": 52
        }
      },
      "source": [
        "# predictions = modelv3.predict(imagesValidation)\n",
        "# predictions = predictions.reshape(1, -1)[0]\n",
        "# print(predictions[:10])\n",
        "predictions = dense.predict(imagesValidation)\n",
        "predictions = predictions.reshape(1, -1)[0]\n",
        "\n",
        "print(predictions[:10])"
      ],
      "execution_count": 63,
      "outputs": [
        {
          "output_type": "stream",
          "text": [
            "[0.13136643 0.86863357 0.9894828  0.01051717 0.9619146  0.03808539\n",
            " 0.465893   0.534107   0.9601463  0.03985366]\n"
          ],
          "name": "stdout"
        }
      ]
    }
  ]
}