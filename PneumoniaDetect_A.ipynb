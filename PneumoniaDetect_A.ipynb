{
  "nbformat": 4,
  "nbformat_minor": 0,
  "metadata": {
    "colab": {
      "name": "PneumoniaDetect.ipynb",
      "provenance": [],
      "collapsed_sections": [],
      "machine_shape": "hm"
    },
    "kernelspec": {
      "name": "python3",
      "display_name": "Python 3"
    },
    "accelerator": "GPU"
  },
  "cells": [
    {
      "cell_type": "markdown",
      "metadata": {
        "id": "i-fes2Zjw5b9",
        "colab_type": "text"
      },
      "source": [
        "Add google disk"
      ]
    },
    {
      "cell_type": "code",
      "metadata": {
        "id": "cGdGmTl-sKXm",
        "colab_type": "code",
        "outputId": "38062f00-4625-4408-b947-f76fcb848bb0",
        "colab": {
          "base_uri": "https://localhost:8080/",
          "height": 128
        }
      },
      "source": [
        "from google.colab import drive\n",
        "drive.mount('/content/gdrive')"
      ],
      "execution_count": 1,
      "outputs": [
        {
          "output_type": "stream",
          "text": [
            "Go to this URL in a browser: https://accounts.google.com/o/oauth2/auth?client_id=947318989803-6bn6qk8qdgf4n4g3pfee6491hc0brc4i.apps.googleusercontent.com&redirect_uri=urn%3aietf%3awg%3aoauth%3a2.0%3aoob&response_type=code&scope=email%20https%3a%2f%2fwww.googleapis.com%2fauth%2fdocs.test%20https%3a%2f%2fwww.googleapis.com%2fauth%2fdrive%20https%3a%2f%2fwww.googleapis.com%2fauth%2fdrive.photos.readonly%20https%3a%2f%2fwww.googleapis.com%2fauth%2fpeopleapi.readonly\n",
            "\n",
            "Enter your authorization code:\n",
            "··········\n",
            "Mounted at /content/gdrive\n"
          ],
          "name": "stdout"
        }
      ]
    },
    {
      "cell_type": "markdown",
      "metadata": {
        "id": "WCfbjMEjMUAV",
        "colab_type": "text"
      },
      "source": [
        "To make sure Colab uses GPU you can run"
      ]
    },
    {
      "cell_type": "code",
      "metadata": {
        "id": "NVDkDXBqMT4u",
        "colab_type": "code",
        "outputId": "966f2981-e157-4dd9-9056-01a0b2aae975",
        "colab": {
          "base_uri": "https://localhost:8080/",
          "height": 35
        }
      },
      "source": [
        "import tensorflow as tf\n",
        "tf.test.gpu_device_name()"
      ],
      "execution_count": 0,
      "outputs": [
        {
          "output_type": "stream",
          "text": [
            "Mounted at /content/gdrive\n"
          ],
          "name": "stdout"
        }
      ]
    },
    {
      "cell_type": "markdown",
      "metadata": {
        "id": "6q2S_WvhNppH",
        "colab_type": "text"
      },
      "source": [
        "Make sure that the current GPU memory utilization is 0"
      ]
    },
    {
      "cell_type": "code",
      "metadata": {
        "id": "7qs6TSp7MnZa",
        "colab_type": "code",
        "outputId": "de2b01f3-7435-4f37-d0ba-eaa9d2174869",
        "colab": {
          "base_uri": "https://localhost:8080/",
          "height": 108
        }
      },
      "source": [
        "!ln -sf /opt/bin/nvidia-smi /usr/bin/nvidia-smi\n",
        "!pip install gputil\n",
        "!pip install psutil\n",
        "!pip install humanize\n",
        "import psutil\n",
        "import humanize\n",
        "import os\n",
        "import GPUtil as GPU\n",
        "GPUs = GPU.getGPUs()\n",
        "# XXX: only one GPU on Colab and isn’t guaranteed\n",
        "gpu = GPUs[0]\n",
        "def printm():\n",
        " process = psutil.Process(os.getpid())\n",
        " print(\"Gen RAM Free: \" + humanize.naturalsize( psutil.virtual_memory().available ), \" | Proc size: \" + humanize.naturalsize( process.memory_info().rss))\n",
        " print(\"GPU RAM Free: {0:.0f}MB | Used: {1:.0f}MB | Util {2:3.0f}% | Total {3:.0f}MB\".format(gpu.memoryFree, gpu.memoryUsed, gpu.memoryUtil*100, gpu.memoryTotal))\n",
        "printm() "
      ],
      "execution_count": 97,
      "outputs": [
        {
          "output_type": "stream",
          "text": [
            "Requirement already satisfied: gputil in /usr/local/lib/python3.6/dist-packages (1.4.0)\n",
            "Requirement already satisfied: psutil in /usr/local/lib/python3.6/dist-packages (5.4.8)\n",
            "Requirement already satisfied: humanize in /usr/local/lib/python3.6/dist-packages (0.5.1)\n",
            "Gen RAM Free: 6.6 GB  | Proc size: 23.5 GB\n",
            "GPU RAM Free: 757MB | Used: 15523MB | Util  95% | Total 16280MB\n"
          ],
          "name": "stdout"
        }
      ]
    },
    {
      "cell_type": "markdown",
      "metadata": {
        "id": "eD7lCjFMNzko",
        "colab_type": "text"
      },
      "source": [
        "If Util not 0% use kill"
      ]
    },
    {
      "cell_type": "code",
      "metadata": {
        "id": "0GWVYD-uM3bL",
        "colab_type": "code",
        "colab": {}
      },
      "source": [
        "!kill -9 -1"
      ],
      "execution_count": 0,
      "outputs": []
    },
    {
      "cell_type": "markdown",
      "metadata": {
        "id": "XtJkcrhBqvAm",
        "colab_type": "text"
      },
      "source": [
        "Import libraries"
      ]
    },
    {
      "cell_type": "code",
      "metadata": {
        "id": "WXV2A0LiqzNm",
        "colab_type": "code",
        "colab": {
          "base_uri": "https://localhost:8080/",
          "height": 35
        },
        "outputId": "f0dc79e7-86b5-4587-e5ff-06cbcbde2808"
      },
      "source": [
        "import numpy as np\n",
        "from keras import applications, Sequential, Model, optimizers, models\n",
        "from keras.callbacks import ReduceLROnPlateau, EarlyStopping, History\n",
        "from keras.layers import Flatten, Dense\n",
        "from keras.utils import to_categorical\n",
        "from tqdm import tqdm\n",
        "import os\n",
        "import h5py\n",
        "from PIL import Image\n",
        "import matplotlib.pyplot as plt"
      ],
      "execution_count": 2,
      "outputs": [
        {
          "output_type": "stream",
          "text": [
            "Using TensorFlow backend.\n"
          ],
          "name": "stderr"
        }
      ]
    },
    {
      "cell_type": "markdown",
      "metadata": {
        "id": "Y20XxIFUq1DG",
        "colab_type": "text"
      },
      "source": [
        "Variables with train and test directories. \n",
        "Some constant variables."
      ]
    },
    {
      "cell_type": "code",
      "metadata": {
        "id": "W2XmpPN4q2rU",
        "colab_type": "code",
        "colab": {}
      },
      "source": [
        "trainInput = \"/content/gdrive/My Drive/pneumonia/chest_xray/chest_xray/train/\"\n",
        "testInput = \"/content/gdrive/My Drive/pneumonia/chest_xray/chest_xray/test/\"\n",
        "validationInput = \"/content/gdrive/My Drive/pneumonia/chest_xray/chest_xray/val/\"\n",
        "size = 199\n",
        "epochs = 3\n",
        "fileName = \"/content/gdrive/My Drive/pneumonia/images.h5\""
      ],
      "execution_count": 0,
      "outputs": []
    },
    {
      "cell_type": "code",
      "metadata": {
        "id": "MDL1eym4q30E",
        "colab_type": "code",
        "colab": {}
      },
      "source": [
        "def extractData(directory):\n",
        "    labels = []\n",
        "    images = []\n",
        "\n",
        "    for nextDirectory in os.listdir(directory):\n",
        "        if not nextDirectory.startswith(\".\"):\n",
        "            if nextDirectory in \"NORMAL\":\n",
        "                label = 0\n",
        "            elif nextDirectory in \"PNEUMONIA\":\n",
        "                label = 1\n",
        "            else:\n",
        "                label = 2\n",
        "\n",
        "            currentDirectory = directory + nextDirectory\n",
        "            if not currentDirectory.startswith(\".\"):\n",
        "                for files in tqdm(os.listdir(currentDirectory)):\n",
        "                    if files.endswith('.jpg') or files.endswith('.jpeg'):\n",
        "                        imagePath = currentDirectory + \"/\" + files\n",
        "                        img = Image.open(imagePath)\n",
        "                        img = img.resize((size, size)).convert(\"RGB\")\n",
        "                        data = np.array(img.getdata())\n",
        "                        img = 2 * (data.reshape((img.size[0], img.size[1], 3)).astype(np.float32) / 255) - 1\n",
        "                        images.append(img)\n",
        "                        labels.append(label)\n",
        "\n",
        "    labels = np.asarray(labels)\n",
        "\n",
        "    if directory == trainInput:\n",
        "        out = h5py.File(fileName, \"a\")\n",
        "        out.create_dataset(\"imagesTrain\", data=images)\n",
        "        out.create_dataset(\"labelsTrain\", data=labels)\n",
        "        out.close()\n",
        "    elif directory == testInput:\n",
        "        out = h5py.File(fileName, \"a\")\n",
        "        out.create_dataset(\"imagesTest\", data=images)\n",
        "        out.create_dataset(\"labelsTest\", data=labels)\n",
        "        out.close()\n",
        "    elif directory == validationInput:\n",
        "        out = h5py.File(fileName, \"a\")\n",
        "        out.create_dataset(\"imagesValidation\", data=images)\n",
        "        out.create_dataset(\"labelsValidation\", data=labels)\n",
        "        out.close()\n",
        "    else:\n",
        "        pass"
      ],
      "execution_count": 0,
      "outputs": []
    },
    {
      "cell_type": "code",
      "metadata": {
        "id": "l5SZ9s-IvZz5",
        "colab_type": "code",
        "outputId": "2e5aee94-9674-452f-ee1e-02bc29f695a2",
        "colab": {
          "base_uri": "https://localhost:8080/",
          "height": 126
        }
      },
      "source": [
        "extractData(trainInput)\n",
        "extractData(testInput)\n",
        "extractData(validationInput)"
      ],
      "execution_count": 0,
      "outputs": [
        {
          "output_type": "stream",
          "text": [
            "100%|██████████| 1342/1342 [09:05<00:00,  2.46it/s]\n",
            "100%|██████████| 3876/3876 [24:30<00:00,  2.64it/s]\n",
            "100%|██████████| 234/234 [01:33<00:00,  2.51it/s]\n",
            "100%|██████████| 390/390 [02:27<00:00,  2.64it/s]\n",
            "100%|██████████| 9/9 [00:00<00:00, 20.21it/s]\n",
            "100%|██████████| 9/9 [00:00<00:00, 25.17it/s]\n"
          ],
          "name": "stderr"
        }
      ]
    },
    {
      "cell_type": "markdown",
      "metadata": {
        "id": "BNA2rFbN9m1j",
        "colab_type": "text"
      },
      "source": [
        "Get the images and labels"
      ]
    },
    {
      "cell_type": "code",
      "metadata": {
        "id": "ZnTukdAeb0dL",
        "colab_type": "code",
        "outputId": "9761d37e-3a66-4e6d-e075-d59f8f34205c",
        "colab": {
          "base_uri": "https://localhost:8080/",
          "height": 35
        }
      },
      "source": [
        "x = h5py.File(fileName, \"r\")[\"imagesTrain\"][:]\n",
        "print(x.shape)"
      ],
      "execution_count": 0,
      "outputs": [
        {
          "output_type": "stream",
          "text": [
            "(5216, 199, 199, 3)\n"
          ],
          "name": "stdout"
        }
      ]
    },
    {
      "cell_type": "code",
      "metadata": {
        "id": "RdrcPl01q5KE",
        "colab_type": "code",
        "colab": {}
      },
      "source": [
        "dset = h5py.File(fileName, \"r\")\n",
        "labelsTrain, imagesTrain, labelsTest, imagesTest, labelsValidation, imagesValidation = dset[\"labelsTrain\"][:], dset[\"imagesTrain\"][:], dset[\"labelsTest\"][:], dset[\"imagesTest\"][:], dset[\"labelsValidation\"][:], dset[\"imagesValidation\"][:]"
      ],
      "execution_count": 0,
      "outputs": []
    },
    {
      "cell_type": "markdown",
      "metadata": {
        "id": "M81QETYCSSdf",
        "colab_type": "text"
      },
      "source": [
        "Reshape if fit_generator dont work"
      ]
    },
    {
      "cell_type": "code",
      "metadata": {
        "id": "9OavjTzoSTU2",
        "colab_type": "code",
        "outputId": "09012d64-2710-422d-bd9f-988b85fe05af",
        "colab": {
          "base_uri": "https://localhost:8080/",
          "height": 54
        }
      },
      "source": [
        "labelsTrain = to_categorical(labelsTrain, 2)\n",
        "labelsTest = to_categorical(labelsTest, 2)\n",
        "labelsValidation = to_categorical(labelsValidation, 2)\n",
        "print(\"Train:\", imagesTrain.shape, \"Test:\", imagesTest.shape, \"Validation:\", imagesValidation.shape)\n",
        "print(\"Train:\", labelsTrain.shape, \"Test:\", labelsTest.shape, \"Validation:\", labelsValidation.shape)"
      ],
      "execution_count": 0,
      "outputs": [
        {
          "output_type": "stream",
          "text": [
            "Train: (5216, 199, 199, 3) Test: (624, 199, 199, 3) Validation: (16, 199, 199, 3)\n",
            "Train: (5216, 2, 2) Test: (624, 2, 2) Validation: (16, 2, 2)\n"
          ],
          "name": "stdout"
        }
      ]
    },
    {
      "cell_type": "markdown",
      "metadata": {
        "id": "uAo1519Ht-YQ",
        "colab_type": "text"
      },
      "source": [
        "Add an model, the weights can be none or imagenet. Imagenet is pre-trained on ImageNet.     \n",
        "include_top is set False in order to exclude the last three layers (including the final softmax layer with 200 classes of output)"
      ]
    },
    {
      "cell_type": "code",
      "metadata": {
        "id": "8wjTvX74zVb2",
        "colab_type": "code",
        "colab": {}
      },
      "source": [
        "# inceptionv3 = applications.InceptionV3(weights='imagenet', include_top=False, input_shape=(size, size, 3))\n",
        "# resnet = applications.ResNet152V2(weights='imagenet', \n",
        "#                                   include_top=False,\n",
        "#                                   input_shape=(size, size, 3))\n",
        "# effnet = applications.InceptionResNetV2(weights='imagenet', \n",
        "#                                   include_top=False,\n",
        "#                                   input_shape=(size, size, 3))\n",
        "# effnet = applications.MobileNetV2(weights='imagenet', \n",
        "#                                   include_top=False,\n",
        "#                                   input_shape=(size, size, 3))\n",
        "effnet = applications.VGG16(weights='imagenet', \n",
        "                                  include_top=False,\n",
        "                                  input_shape=(size, size, 3))\n",
        "# inceptionv3 = applications.InceptionV3(include_top=False, input_shape=(size, size, 3)) # weights None(random initalization)"
      ],
      "execution_count": 0,
      "outputs": []
    },
    {
      "cell_type": "markdown",
      "metadata": {
        "id": "iTPxoU9Y0uZv",
        "colab_type": "text"
      },
      "source": [
        "Flatten() layer to flatten the tensor output. Dense is 2D layer which support the specification of their input shape. relu and softmax are different activations which used with layers, either can be used by activation layers. Activations: https://keras.io/activations/. Optimizers: https://keras.io/optimizers/. Losses: https://keras.io/losses/. Metrics: https://keras.io/metrics/. Compilation: https://keras.io/getting-started/sequential-model-guide/."
      ]
    },
    {
      "cell_type": "code",
      "metadata": {
        "id": "C_EcVcda0ugt",
        "colab_type": "code",
        "colab": {}
      },
      "source": [
        "# addModel_1 = Sequential()\n",
        "\n",
        "# addModel_1.add(Flatten(input_shape=inceptionv3.output_shape[1:]))\n",
        "\n",
        "# addModel_1.add(Dense(256, activation='relu'))\n",
        "# addModel_1.add(Dense(128, activation='relu'))\n",
        "# addModel_1.add(Dense(2, activation='softmax'))\n",
        "\n",
        "# addModel_2 = Sequential()\n",
        "\n",
        "# addModel_2.add(Flatten(input_shape=resnet.output_shape[1:]))\n",
        "\n",
        "# addModel_2.add(Dense(256, activation='relueff'))\n",
        "# addModel_2.add(Dense(128, activation='relu'))\n",
        "# addModel_2.add(Dense(2, activation='softmax'))\n",
        "\n",
        "addModel_3 = Sequential()\n",
        "\n",
        "addModel_3.add(Flatten(input_shape=effnet.output_shape[1:]))\n",
        "\n",
        "addModel_3.add(Dense(256, activation='relu'))\n",
        "addModel_3.add(Dense(128, activation='relu'))\n",
        "addModel_3.add(Dense(2, activation='softmax'))\n",
        "# addModel.add(Dense(2, activation='sigmoid'))\n",
        "\n",
        "# modelv3 = Model(inputs=inceptionv3.input, outputs=addModel_1(inceptionv3.output))\n",
        "# modelv3.compile(loss='categorical_crossentropy', \n",
        "#                 optimizer=optimizers.SGD(lr=1e-4, momentum=0.9),\n",
        "#                 metrics=['accuracy'])\n",
        "\n",
        "# modelv4 = Model(inputs=resnet.input, outputs=addModel_2(resnet.output))\n",
        "# modelv4.compile(loss='categorical_crossentropy', \n",
        "#                 optimizer=optimizers.SGD(lr=1e-4, momentum=0.9),\n",
        "#                 metrics=['accuracy'])\n",
        "\n",
        "modelv5 = Model(inputs=effnet.input, outputs=addModel_3(effnet.output))\n",
        "modelv5.compile(loss='categorical_crossentropy', \n",
        "                optimizer=optimizers.SGD(lr=1e-4, momentum=0.9),\n",
        "                metrics=['accuracy'])"
      ],
      "execution_count": 0,
      "outputs": []
    },
    {
      "cell_type": "markdown",
      "metadata": {
        "id": "Z3zIPKNe-o2G",
        "colab_type": "text"
      },
      "source": [
        "Print summary to test if model is launched"
      ]
    },
    {
      "cell_type": "code",
      "metadata": {
        "id": "dxQEkg1H-o8a",
        "colab_type": "code",
        "colab": {}
      },
      "source": [
        "print(\"Summary:\", modelv5.summary())"
      ],
      "execution_count": 0,
      "outputs": []
    },
    {
      "cell_type": "markdown",
      "metadata": {
        "id": "JKxNKry6Fk6e",
        "colab_type": "text"
      },
      "source": [
        "This callback monitors a quantity and if no improvement is seen for a 'patience' number of epochs, the learning rate is reduced.\n",
        "Reduce learning rate when a metric has stopped improving."
      ]
    },
    {
      "cell_type": "code",
      "metadata": {
        "id": "HTy3TA8cFmHm",
        "colab_type": "code",
        "colab": {}
      },
      "source": [
        "reduceLearningRate = ReduceLROnPlateau(monitor='loss', factor=0.1, patience=2, cooldown=2, min_lr=0.001, verbose=1)\n",
        "# reduceLearningRate = ReduceLROnPlateau(monitor='val_acc', factor=0.1, epsilon=0.0001, patience=1, verbose=1) \n",
        "earlyStop = EarlyStopping(monitor='val_loss', patience=5, verbose=1)\n",
        "\n",
        "callbacks = [reduceLearningRate, earlyStop]"
      ],
      "execution_count": 0,
      "outputs": []
    },
    {
      "cell_type": "markdown",
      "metadata": {
        "id": "9AkYHdHbNvF0",
        "colab_type": "text"
      },
      "source": [
        "Measure time and creation of fit_generator: https://keras.io/models/model/#fit_generator , https://keras.io/models/model/#fit"
      ]
    },
    {
      "cell_type": "code",
      "metadata": {
        "id": "0ulgXPSlJ_RK",
        "colab_type": "code",
        "outputId": "e59e8207-36d1-482f-afaf-2a56ca45ada2",
        "colab": {
          "base_uri": "https://localhost:8080/",
          "height": 145
        }
      },
      "source": [
        "# history = modelv3.fit(imagesTrain, labelsTrain, \n",
        "#                       validation_data=(imagesTest, labelsTest),\n",
        "#                       callbacks=callbacks, epochs=epochs)\n",
        "# history = modelv4.fit(imagesTrain, labelsTrain,\n",
        "#                       validation_data=(imagesTest, labelsTest),\n",
        "#                       callbacks=callbacks, epochs=epochs)\n",
        "history = modelv5.fit(imagesTrain, labelsTrain,\n",
        "                      validation_data=(imagesTest, labelsTest),\n",
        "                      callbacks=callbacks, epochs=epochs)"
      ],
      "execution_count": 0,
      "outputs": [
        {
          "output_type": "stream",
          "text": [
            "Train on 5216 samples, validate on 624 samples\n",
            "Epoch 1/3\n",
            "5216/5216 [==============================] - 126s 24ms/step - loss: 0.1882 - accuracy: 0.9241 - val_loss: 0.7964 - val_accuracy: 0.7372\n",
            "Epoch 2/3\n",
            "5216/5216 [==============================] - 126s 24ms/step - loss: 0.0621 - accuracy: 0.9762 - val_loss: 0.3862 - val_accuracy: 0.8606\n",
            "Epoch 3/3\n",
            "5216/5216 [==============================] - 126s 24ms/step - loss: 0.0447 - accuracy: 0.9849 - val_loss: 0.6622 - val_accuracy: 0.8253\n"
          ],
          "name": "stdout"
        }
      ]
    },
    {
      "cell_type": "markdown",
      "metadata": {
        "id": "-TpVlC_RSM2Y",
        "colab_type": "text"
      },
      "source": [
        "History in graphs"
      ]
    },
    {
      "cell_type": "code",
      "metadata": {
        "id": "IDcLbdhYSNBy",
        "colab_type": "code",
        "outputId": "7d678839-d48f-4bd2-aad4-a7bdb4d813cf",
        "colab": {
          "base_uri": "https://localhost:8080/",
          "height": 573
        }
      },
      "source": [
        "plt.plot(history.history[\"accuracy\"])\n",
        "plt.plot(history.history[\"val_accuracy\"])\n",
        "plt.title(\"Accuracy\")\n",
        "plt.ylabel(\"Accuracy\")\n",
        "plt.xlabel(\"Epoch\")\n",
        "plt.legend([\"Train\", \"Test\"], loc=\"upper left\")\n",
        "plt.show()\n",
        "\n",
        "plt.plot(history.history[\"loss\"])\n",
        "plt.plot(history.history[\"val_loss\"])\n",
        "plt.title(\"Loss\")\n",
        "plt.ylabel(\"Loss\")\n",
        "plt.xlabel(\"Epoch\")\n",
        "plt.legend([\"Train\", \"Test\"], loc=\"upper left\")\n",
        "plt.show()"
      ],
      "execution_count": 0,
      "outputs": [
        {
          "output_type": "display_data",
          "data": {
            "image/png": "[encoded data removed]",
            "text/plain": [
              "<Figure size 432x288 with 1 Axes>"
            ]
          },
          "metadata": {
            "tags": [],
            "needs_background": "light"
          }
        },
        {
          "output_type": "display_data",
          "data": {
            "image/png": "[encoded data removed]",
            "text/plain": [
              "<Figure size 432x288 with 1 Axes>"
            ]
          },
          "metadata": {
            "tags": [],
            "needs_background": "light"
          }
        }
      ]
    },
    {
      "cell_type": "markdown",
      "metadata": {
        "id": "JK0KrMa7QXFl",
        "colab_type": "text"
      },
      "source": [
        "Save the model"
      ]
    },
    {
      "cell_type": "code",
      "metadata": {
        "id": "HytQ-V9rQXKD",
        "colab_type": "code",
        "colab": {}
      },
      "source": [
        "modelv5.save(\"/content/gdrive/My Drive/pneumonia/VGG16.h5\")"
      ],
      "execution_count": 0,
      "outputs": []
    },
    {
      "cell_type": "markdown",
      "metadata": {
        "id": "Na80cvWza-DW",
        "colab_type": "text"
      },
      "source": [
        "We have 16 images in validation, as we see its nearly predict some images, and \n",
        "gives an understanding about the remaining images\n"
      ]
    },
    {
      "cell_type": "code",
      "metadata": {
        "id": "EOvoXu9ia-Il",
        "colab_type": "code",
        "outputId": "855870e2-7b49-4b99-90a4-e79e849f0c3d",
        "colab": {
          "base_uri": "https://localhost:8080/",
          "height": 54
        }
      },
      "source": [
        "model = models.load_model(\"/content/gdrive/My Drive/pneumonia/models/VGG16.h5\")\n",
        "predictions = model.predict(imagesTest)\n",
        "predictions = predictions.reshape(1, -1)[0]\n",
        "\n",
        "x = 0\n",
        "y = []\n",
        "\n",
        "for i in range(0, len(predictions), 2):\n",
        "  if predictions[i] > predictions[i + 1]:\n",
        "    if dset[\"labelsTest\"][i / 2] == 0:\n",
        "      x += 1\n",
        "      y.append(predictions[i])\n",
        "    else: \n",
        "      y.append(predictions[i + 1])  \n",
        "\n",
        "  if predictions[i] < predictions[i + 1]:\n",
        "    if dset[\"labelsTest\"][i / 2] == 1:\n",
        "      x += 1  \n",
        "      y.append(predictions[i + 1])\n",
        "    else: \n",
        "      y.append(predictions[i])\n",
        "\n",
        "print(x / len(imagesTest))\n",
        "print(np.sum(y) / len(y))\n",
        "\n",
        "# inceptionV3Fromh5Dataset\n",
        "# 0.8076923076923077\n",
        "# 0.8013032766488882\n",
        "\n",
        "# inceptionv3\n",
        "# 0.6314102564102564\n",
        "# 0.6281051635742188\n",
        "\n",
        "# VGG16\n",
        "# 0.8253205128205128\n",
        "# 0.8053299830510066\n",
        "\n",
        "# InceptionResNetV2\n",
        "# 0.8237179487179487\n",
        "# 0.803289071107522\n",
        "\n",
        "# ResNet152V2\n",
        "# 0.8012820512820513\n",
        "# 0.7945780631823417\n",
        "\n",
        "# MobileNetV2\n",
        "# 0.8637820512820513\n",
        "# 0.8522662627391326\n",
        "\n",
        "# ????\n",
        "# xception\n",
        "# 0.5608974358974359\n",
        "# 0.5300631400866386\n",
        "\n",
        "# ????\n",
        "# DenseNet201\n",
        "# 0.5608974358974359\n",
        "# 0.5300631400866386"
      ],
      "execution_count": 220,
      "outputs": [
        {
          "output_type": "stream",
          "text": [
            "0.8253205128205128\n",
            "0.8053299341446314\n"
          ],
          "name": "stdout"
        }
      ]
    },
    {
      "cell_type": "code",
      "metadata": {
        "id": "eR8rghkVbrg7",
        "colab_type": "code",
        "colab": {}
      },
      "source": [
        "# def barplot(x_data, y_data, x_label=\"\", y_label=\"\", title=\"\"):\n",
        "#     _, ax = plt.subplots()\n",
        "#     # Draw bars, position them in the center of the tick mark on the x-axis\n",
        "#     ax.bar(x_data, y_data, color = '#539caf', align = 'center')\n",
        "#     # Draw error bars to show standard deviation, set ls to 'none'\n",
        "#     # to remove line between points\n",
        "#     #ax.errorbar(x_data, y_data, yerr = error_data, color = '#297083', ls = 'none', lw = 2, capthick = 2)\n",
        "#     ax.set_ylabel(y_label)\n",
        "#     ax.set_xlabel(x_label)\n",
        "#     ax.set_title(title)   "
      ],
      "execution_count": 0,
      "outputs": []
    },
    {
      "cell_type": "code",
      "metadata": {
        "id": "K3_-BYmz6edu",
        "colab_type": "code",
        "colab": {}
      },
      "source": [
        "def global_test(dir_models, dir_test_image):\n",
        "\n",
        "    models_stat = []\n",
        "    num_mod = 0\n",
        "\n",
        "    labels = []\n",
        "    images = []\n",
        "\n",
        "    for nextDirectory in os.listdir(dir_test_image):\n",
        "        if not nextDirectory.startswith(\".\"):\n",
        "            if nextDirectory in \"NORMAL\":\n",
        "                label = 0\n",
        "            elif nextDirectory in \"PNEUMONIA\":\n",
        "                label = 1\n",
        "            else:\n",
        "                label = 2\n",
        "\n",
        "            currentDirectory = dir_test_image + nextDirectory\n",
        "            if not currentDirectory.startswith(\".\"):\n",
        "                for files in os.listdir(currentDirectory):\n",
        "                    if files.endswith('.jpg') or files.endswith('.jpeg'):\n",
        "                        imagePath = currentDirectory + \"/\" + files\n",
        "                        img = Image.open(imagePath)\n",
        "                        img = img.resize((size, size)).convert(\"RGB\")\n",
        "                        data = np.array(img.getdata())\n",
        "                        img = 2 * (data.reshape((img.size[0], img.size[1], 3)).astype(np.float32) / 255) - 1\n",
        "                        images.append(img)\n",
        "                        labels.append(label)\n",
        "\n",
        "    labels = np.asarray(labels)\n",
        "    average_accuracy = [0] * len(labels)\n",
        "\n",
        "    out = h5py.File(\"/content/gdrive/My Drive/pneumonia/tmptest.h5\", \"a\")\n",
        "    out.create_dataset(\"imagesTmp\", data=images)\n",
        "    out.close()\n",
        "\n",
        "    dset = h5py.File(\"/content/gdrive/My Drive/pneumonia/tmptest.h5\", \"r\")\n",
        "    imagesTmp = dset[\"imagesTmp\"][:]\n",
        "    os.remove(\"/content/gdrive/My Drive/pneumonia/tmptest.h5\")\n",
        "\n",
        "    for file_model in os.listdir(dir_models):\n",
        "        num_mod += 1\n",
        "\n",
        "        dir_model = dir_models + \"/\" + file_model\n",
        "        name = file_model[:-3]\n",
        "        model_stat = [name]\n",
        "    \n",
        "        model = models.load_model(dir_model)\n",
        "        predictions = model.predict(imagesTmp)\n",
        "        predictions = predictions.reshape(1, -1)[0]\n",
        "\n",
        "        accuracy_array = []\n",
        "\n",
        "        x = -1\n",
        "        for i in range(0, len(predictions), 2):\n",
        "            x += 1  \n",
        "            if predictions[i] > predictions[i + 1]:\n",
        "                if labels[x] == 0:\n",
        "                   accuracy_array.append(predictions[i])\n",
        "                   average_accuracy[x] += predictions[i]\n",
        "                else: \n",
        "                   accuracy_array.append(predictions[i + 1])  \n",
        "                   average_accuracy[x] += predictions[i + 1]\n",
        "\n",
        "            if predictions[i] < predictions[i + 1]:\n",
        "               if labels[x] == 1:\n",
        "                 accuracy_array.append(predictions[i + 1])\n",
        "                 average_accuracy[x] += predictions[i + 1]\n",
        "               else: \n",
        "                  accuracy_array.append(predictions[i])\n",
        "                  average_accuracy[x] += predictions[i]\n",
        "\n",
        "        model_stat.append(np.sum(accuracy_array) / len(accuracy_array) * 100)\n",
        "        models_stat.append(model_stat)\n",
        "        print(model_stat)\n",
        "    for i in range(len(average_accuracy)):\n",
        "        average_accuracy[i] = average_accuracy[i] / num_mod\n",
        "    models_stat.append([\"Average\", np.sum(average_accuracy) / len(average_accuracy) * 100])\n",
        "    print([\"Average\", np.sum(average_accuracy) / len(average_accuracy) * 100])"
      ],
      "execution_count": 0,
      "outputs": []
    },
    {
      "cell_type": "code",
      "metadata": {
        "id": "6HFsqzFs6p-u",
        "colab_type": "code",
        "outputId": "fc192388-40be-42dc-c36d-cbd545256b2e",
        "colab": {
          "base_uri": "https://localhost:8080/",
          "height": 126
        }
      },
      "source": [
        "global_test(\"/content/gdrive/My Drive/pneumonia/models\", \"/content/gdrive/My Drive/pneumonia/test/\")"
      ],
      "execution_count": 68,
      "outputs": [
        {
          "output_type": "stream",
          "text": [
            "['ResNet152V2', 79.45790413098457]\n",
            "['InceptionResNetV2', 80.32888754820212]\n",
            "['MobileNetV2', 85.22662627391327]\n",
            "['VGG16', 80.53300319573819]\n",
            "['xception', 53.006323789938904]\n",
            "['Average', 75.71054911949928]\n"
          ],
          "name": "stdout"
        }
      ]
    },
    {
      "cell_type": "code",
      "metadata": {
        "id": "Iu5KAC6mO7j0",
        "colab_type": "code",
        "colab": {}
      },
      "source": [
        "def global_predict(dir_models, dir_image):\n",
        "\n",
        "    images_stat = []\n",
        "    num_mod = 0\n",
        "\n",
        "    name_image = []\n",
        "    images = []\n",
        "\n",
        "    for files in os.listdir(dir_image):\n",
        "        if files.endswith('.jpg') or files.endswith('.jpeg'):\n",
        "            imagePath = dir_image + files\n",
        "            name_image.append(files)\n",
        "            img = Image.open(imagePath)\n",
        "            img = img.resize((size, size)).convert(\"RGB\")\n",
        "            data = np.array(img.getdata())\n",
        "            img = 2 * (data.reshape((img.size[0], img.size[1], 3)).astype(np.float32) / 255) - 1\n",
        "            images.append(img)\n",
        "\n",
        "    out = h5py.File(\"/content/gdrive/My Drive/pneumonia/tmptest.h5\", \"a\")\n",
        "    out.create_dataset(\"imagesTmp\", data=images)\n",
        "    out.close()\n",
        "\n",
        "    dset = h5py.File(\"/content/gdrive/My Drive/pneumonia/tmptest.h5\", \"r\")\n",
        "    imagesTmp = dset[\"imagesTmp\"][:]\n",
        "    os.remove(\"/content/gdrive/My Drive/pneumonia/tmptest.h5\")\n",
        "\n",
        "    for file_model in os.listdir(dir_models):\n",
        "        num_mod += 1\n",
        "\n",
        "        dir_model = dir_models + \"/\" + file_model\n",
        "        print(file_model)\n",
        "        # name = file_model[:-3]\n",
        "        # model_stat = [name]\n",
        "    \n",
        "        model = models.load_model(dir_model)\n",
        "        predictions = model.predict(imagesTmp)\n",
        "        predictions = predictions.reshape(1, -1)[0]\n",
        "\n",
        "        accuracy_array = []\n",
        "\n",
        "        for i in range(0, len(predictions), 2):\n",
        "            accuracy_array.append(predictions[i + 1])\n",
        "        images_stat.append(accuracy_array)\n",
        "\n",
        "    result = []    \n",
        "\n",
        "    for i in range(len(name_image)):\n",
        "        sum_ac = 0\n",
        "        for j in range(num_mod):\n",
        "            sum_ac += images_stat[j][i]  \n",
        "        result.append([name_image[i], sum_ac / num_mod * 100])\n",
        "    print(result)\n",
        "\n"
      ],
      "execution_count": 0,
      "outputs": []
    },
    {
      "cell_type": "code",
      "metadata": {
        "id": "x3mosclRU_4m",
        "colab_type": "code",
        "colab": {
          "base_uri": "https://localhost:8080/",
          "height": 1000
        },
        "outputId": "f474a293-e502-4154-df87-223011ee3bcc"
      },
      "source": [
        "global_predict(\"/content/gdrive/My Drive/pneumonia/models\", \"/content/gdrive/My Drive/pneumonia/predict/\")"
      ],
      "execution_count": 10,
      "outputs": [
        {
          "output_type": "stream",
          "text": [
            "ResNet152V2.h5\n",
            "[0.6803604, 0.42392924, 0.19710416, 0.641739, 0.23886314, 0.9997682, 0.99869365, 0.9995278, 0.9996364, 0.9993544, 0.9971311]\n",
            "InceptionResNetV2.h5\n",
            "[0.4689617, 0.38373965, 0.10561283, 0.68765014, 0.10917702, 0.99903405, 0.9977284, 0.999183, 0.9996574, 0.9999672, 0.99894017]\n",
            "MobileNetV2.h5\n",
            "[0.18382469, 0.07634465, 0.25555867, 0.22616726, 0.03265058, 0.99678373, 0.99986184, 0.9999821, 0.9998324, 0.99991584, 0.9998671]\n",
            "VGG16.h5\n",
            "[0.8669566, 0.15812396, 0.3225181, 0.46605927, 0.09625931, 0.9991066, 0.9999708, 0.99998987, 0.9999335, 0.9999831, 0.99993014]\n",
            "-----------------------------\n",
            "0.6803604\n",
            "0.4689617\n",
            "0.18382469\n",
            "0.8669566\n",
            "2.2001033425331116\n",
            "4\n",
            "0.5500258356332779\n",
            "-----------------------------\n",
            "0.42392924\n",
            "0.38373965\n",
            "0.07634465\n",
            "0.15812396\n",
            "1.0421374961733818\n",
            "4\n",
            "0.26053437404334545\n",
            "-----------------------------\n",
            "0.19710416\n",
            "0.10561283\n",
            "0.25555867\n",
            "0.3225181\n",
            "0.8807937651872635\n",
            "4\n",
            "0.22019844129681587\n",
            "-----------------------------\n",
            "0.641739\n",
            "0.68765014\n",
            "0.22616726\n",
            "0.46605927\n",
            "2.02161568403244\n",
            "4\n",
            "0.50540392100811\n",
            "-----------------------------\n",
            "0.23886314\n",
            "0.10917702\n",
            "0.03265058\n",
            "0.09625931\n",
            "0.4769500531256199\n",
            "4\n",
            "0.11923751328140497\n",
            "-----------------------------\n",
            "0.9997682\n",
            "0.99903405\n",
            "0.99678373\n",
            "0.9991066\n",
            "3.99469256401062\n",
            "4\n",
            "0.998673141002655\n",
            "-----------------------------\n",
            "0.99869365\n",
            "0.9977284\n",
            "0.99986184\n",
            "0.9999708\n",
            "3.9962546825408936\n",
            "4\n",
            "0.9990636706352234\n",
            "-----------------------------\n",
            "0.9995278\n",
            "0.999183\n",
            "0.9999821\n",
            "0.99998987\n",
            "3.9986827969551086\n",
            "4\n",
            "0.9996706992387772\n",
            "-----------------------------\n",
            "0.9996364\n",
            "0.9996574\n",
            "0.9998324\n",
            "0.9999335\n",
            "3.9990596771240234\n",
            "4\n",
            "0.9997649192810059\n",
            "-----------------------------\n",
            "0.9993544\n",
            "0.9999672\n",
            "0.99991584\n",
            "0.9999831\n",
            "3.999220550060272\n",
            "4\n",
            "0.999805137515068\n",
            "-----------------------------\n",
            "0.9971311\n",
            "0.99894017\n",
            "0.9998671\n",
            "0.99993014\n",
            "3.995868504047394\n",
            "4\n",
            "0.9989671260118484\n",
            "[['IM-0001-0001.jpeg', 55.00258356332779], ['IM-0003-0001.jpeg', 26.053437404334545], ['IM-0005-0001.jpeg', 22.019844129681587], ['IM-0006-0001.jpeg', 50.540392100811005], ['IM-0007-0001.jpeg', 11.923751328140497], ['person1_virus_6.jpeg', 99.8673141002655], ['person1_virus_7.jpeg', 99.90636706352234], ['person1_virus_8.jpeg', 99.96706992387772], ['person1_virus_9.jpeg', 99.97649192810059], ['person1_virus_11.jpeg', 99.9805137515068], ['person1_virus_12.jpeg', 99.89671260118484]]\n"
          ],
          "name": "stdout"
        }
      ]
    }
  ]
}